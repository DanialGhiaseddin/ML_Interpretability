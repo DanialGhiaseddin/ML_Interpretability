{
 "cells": [
  {
   "cell_type": "code",
   "execution_count": 2,
   "id": "initial_id",
   "metadata": {
    "collapsed": true,
    "ExecuteTime": {
     "end_time": "2023-09-28T04:18:28.853855035Z",
     "start_time": "2023-09-28T04:18:28.447090855Z"
    }
   },
   "outputs": [],
   "source": [
    "import pandas as pd\n",
    "import torch\n",
    "from data.datasets import ClinicalCovid\n",
    "import numpy as np\n",
    "from pytorch_tabnet.tab_model import TabNetClassifier\n",
    "from pytorch_tabnet.pretraining import TabNetPretrainer\n",
    "from augmentations import ClassificationSMOTE\n",
    "import matplotlib.pyplot as plt\n",
    "from sklearn.metrics import confusion_matrix\n",
    "from tabnet_utils import regularized_loss\n",
    "import pickle"
   ]
  },
  {
   "cell_type": "code",
   "execution_count": 3,
   "outputs": [],
   "source": [
    "normalization = False"
   ],
   "metadata": {
    "collapsed": false,
    "ExecuteTime": {
     "end_time": "2023-09-28T04:18:29.480594187Z",
     "start_time": "2023-09-28T04:18:29.475443919Z"
    }
   },
   "id": "89a4b18f2c9e0a0f"
  },
  {
   "cell_type": "code",
   "execution_count": 4,
   "outputs": [
    {
     "name": "stdout",
     "output_type": "stream",
     "text": [
      "Initiating data imputation\n",
      "Creating Kernel\n",
      "Initiating data iteration\n"
     ]
    }
   ],
   "source": [
    "initial_drop_list = ['ID', 'cough', 'sputum', 'chills', 'Sore throat',\n",
    "                     'dizziness', 'stomachache', 'Diarrhea', 'Nausea',\n",
    "                     'runny nose', 'Nasal congestion', 'alcohol']\n",
    "\n",
    "train_set = ClinicalCovid('data/all_final.csv', drop_list=initial_drop_list)\n",
    "\n",
    "train_dropped_list = train_set.drop_missing_columns(threshold=0.5)\n",
    "train_set.fill_missing_data(n_dset=1, return_dset=0, iters=5, n_tree=50, print_kernel=False)\n",
    "# train_set.drop_missing_row()\n",
    "if normalization:\n",
    "    train_set.normalize()"
   ],
   "metadata": {
    "collapsed": false,
    "ExecuteTime": {
     "end_time": "2023-09-28T04:19:27.887450430Z",
     "start_time": "2023-09-28T04:18:30.125298793Z"
    }
   },
   "id": "41efda8b59a51b7b"
  },
  {
   "cell_type": "code",
   "execution_count": 5,
   "outputs": [],
   "source": [
    "x_train, x_test, y_train, y_test = train_set.data_split(test_ratio=0.2, random_state=101)"
   ],
   "metadata": {
    "collapsed": false,
    "ExecuteTime": {
     "end_time": "2023-09-28T04:20:05.883663105Z",
     "start_time": "2023-09-28T04:20:05.840845040Z"
    }
   },
   "id": "c8d71b2ad317c6f5"
  },
  {
   "cell_type": "code",
   "execution_count": 6,
   "outputs": [],
   "source": [
    "from sklearn.ensemble import RandomForestClassifier\n",
    "\n",
    "model = RandomForestClassifier(random_state=42)\n",
    "model.fit(x_train, y_train)\n",
    "score = model.score(x_test, y_test)"
   ],
   "metadata": {
    "collapsed": false,
    "ExecuteTime": {
     "end_time": "2023-09-28T04:20:36.688774441Z",
     "start_time": "2023-09-28T04:20:36.020934797Z"
    }
   },
   "id": "c7807f804659a186"
  },
  {
   "cell_type": "code",
   "execution_count": 8,
   "outputs": [],
   "source": [
    "import lime\n",
    "from lime import lime_tabular\n",
    "\n",
    "cols = train_set.dataframe.columns.to_list()\n",
    "cols.remove('outcome')\n",
    "\n",
    "explainer = lime_tabular.LimeTabularExplainer(\n",
    "    training_data=np.array(x_train),\n",
    "    feature_names=cols,\n",
    "    class_names=['discharged', 'expired'],\n",
    "    mode='classification'\n",
    ")"
   ],
   "metadata": {
    "collapsed": false,
    "ExecuteTime": {
     "end_time": "2023-09-28T04:22:46.813697580Z",
     "start_time": "2023-09-28T04:22:46.761927543Z"
    }
   },
   "id": "edff2cb01a4e463b"
  },
  {
   "cell_type": "code",
   "execution_count": 18,
   "outputs": [],
   "source": [
    "for i in range(10):\n",
    "    exp = explainer.explain_instance(\n",
    "    data_row=x_test[i], \n",
    "    predict_fn=model.predict_proba\n",
    "    )\n",
    "    \n",
    "    exp.save_to_file(f'lime/lime{i}.html')"
   ],
   "metadata": {
    "collapsed": false,
    "ExecuteTime": {
     "end_time": "2023-09-28T04:34:50.413816955Z",
     "start_time": "2023-09-28T04:34:48.465891743Z"
    }
   },
   "id": "6369dc07df6f805c"
  },
  {
   "cell_type": "code",
   "execution_count": null,
   "outputs": [],
   "source": [],
   "metadata": {
    "collapsed": false
   },
   "id": "51545f6a6743517b"
  }
 ],
 "metadata": {
  "kernelspec": {
   "display_name": "Python 3",
   "language": "python",
   "name": "python3"
  },
  "language_info": {
   "codemirror_mode": {
    "name": "ipython",
    "version": 2
   },
   "file_extension": ".py",
   "mimetype": "text/x-python",
   "name": "python",
   "nbconvert_exporter": "python",
   "pygments_lexer": "ipython2",
   "version": "2.7.6"
  }
 },
 "nbformat": 4,
 "nbformat_minor": 5
}
